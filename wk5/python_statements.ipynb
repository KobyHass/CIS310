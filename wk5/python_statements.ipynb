{
 "cells": [
  {
   "cell_type": "markdown",
   "metadata": {},
   "source": [
    "# Koby Hass\n",
    "## 02/18/2021\n",
    "### Python Statements"
   ]
  },
  {
   "cell_type": "markdown",
   "metadata": {},
   "source": [
    "if condition1:\n",
    "    perform action\n",
    "elif condition2:\n",
    "    perform second action\n",
    "else:\n",
    "    perform third action"
   ]
  },
  {
   "cell_type": "code",
   "execution_count": 3,
   "metadata": {},
   "outputs": [
    {
     "name": "stdout",
     "output_type": "stream",
     "text": [
      "It was correct\n"
     ]
    }
   ],
   "source": [
    "if True:\n",
    "    print(\"It was correct\")"
   ]
  },
  {
   "cell_type": "code",
   "execution_count": 5,
   "metadata": {},
   "outputs": [
    {
     "name": "stdout",
     "output_type": "stream",
     "text": [
      "Hi Five\n"
     ]
    }
   ],
   "source": [
    "value = 5\n",
    "\n",
    "if value == 5:\n",
    "    print(\"Hi Five\")\n",
    "else:\n",
    "    print(\"too slow\")"
   ]
  },
  {
   "cell_type": "code",
   "execution_count": 6,
   "metadata": {},
   "outputs": [
    {
     "name": "stdout",
     "output_type": "stream",
     "text": [
      "too slow\n"
     ]
    }
   ],
   "source": [
    "value = 162919\n",
    "\n",
    "if value == 5:\n",
    "    print(\"Hi Five\")\n",
    "else:\n",
    "    print(\"too slow\")"
   ]
  },
  {
   "cell_type": "code",
   "execution_count": 7,
   "metadata": {},
   "outputs": [
    {
     "name": "stdout",
     "output_type": "stream",
     "text": [
      "You may redo\n"
     ]
    }
   ],
   "source": [
    "test1 = 98\n",
    "test2 = 87\n",
    "\n",
    "if test1 > test2:\n",
    "    print(\"You may redo\")"
   ]
  },
  {
   "cell_type": "code",
   "execution_count": 8,
   "metadata": {},
   "outputs": [
    {
     "name": "stdout",
     "output_type": "stream",
     "text": [
      "You may redo\n"
     ]
    }
   ],
   "source": [
    "test1 = 98\n",
    "test2 = 87\n",
    "\n",
    "if test1 > test2:\n",
    "    print(\"You may redo\")\n",
    "else:\n",
    "    print(\"too bad\")"
   ]
  },
  {
   "cell_type": "code",
   "execution_count": 9,
   "metadata": {},
   "outputs": [
    {
     "name": "stdout",
     "output_type": "stream",
     "text": [
      "too bad\n"
     ]
    }
   ],
   "source": [
    "test1 = 98\n",
    "test2 = 87\n",
    "\n",
    "if test1 > test2:\n",
    "    print(\"You may redo\")\n",
    "else:\n",
    "    print(\"too bad\")"
   ]
  },
  {
   "cell_type": "code",
   "execution_count": 12,
   "metadata": {},
   "outputs": [
    {
     "name": "stdout",
     "output_type": "stream",
     "text": [
      "test 2 is greater than test1\n",
      "you may think about redoing test1\n"
     ]
    }
   ],
   "source": [
    "if test1 > test2:\n",
    "    print(\"test1 is greater than test2\")\n",
    "    print(\"you may redo test2\")\n",
    "elif test2 > test1:\n",
    "    print(\"test 2 is greater than test1\")\n",
    "    print(\"you may think about redoing test1\")\n",
    "else:\n",
    "    print(\"both tests are equal\")"
   ]
  },
  {
   "cell_type": "code",
   "execution_count": 13,
   "metadata": {},
   "outputs": [],
   "source": [
    "#short hand\n",
    "if test1 > test2:print(\"test1 is greater than test2\")"
   ]
  },
  {
   "cell_type": "code",
   "execution_count": 14,
   "metadata": {},
   "outputs": [
    {
     "name": "stdout",
     "output_type": "stream",
     "text": [
      "Welcome to Colorado\n"
     ]
    }
   ],
   "source": [
    "s = \"Colorado\"\n",
    "\n",
    "if s == \"Colorado\":\n",
    "    print(\"Welcome to Colorado\")\n",
    "elif s == \"Florida\":\n",
    "    print(\"Welcome to Florida\")\n",
    "else:\n",
    "    (\"Heres a map\")"
   ]
  },
  {
   "cell_type": "code",
   "execution_count": 15,
   "metadata": {},
   "outputs": [
    {
     "name": "stdout",
     "output_type": "stream",
     "text": [
      "Both conditions are true\n"
     ]
    }
   ],
   "source": [
    "#And\n",
    "s1 = 89\n",
    "s2 = 27\n",
    "s3 = 59\n",
    "\n",
    "if s1 > s2 and s3 > s2:\n",
    "    print(\"Both conditions are true\")"
   ]
  },
  {
   "cell_type": "code",
   "execution_count": 16,
   "metadata": {},
   "outputs": [
    {
     "name": "stdout",
     "output_type": "stream",
     "text": [
      "at least one of the condtions is true\n"
     ]
    }
   ],
   "source": [
    "#OR\n",
    "\n",
    "if s1 < s2 or s3 > s2:\n",
    "    print(\"at least one of the condtions is true\")"
   ]
  },
  {
   "cell_type": "code",
   "execution_count": null,
   "metadata": {},
   "outputs": [],
   "source": [
    "s1 = 90\n",
    "\n",
    "if s1 > 40:\n",
    "    print(\"above forty\")\n",
    "    if s1 > 60:\n",
    "        print(\"above sixty\")\n",
    "    else:\n",
    "        print(\"not above sixty\")\n",
    "else:\n",
    "    print(\"not \")"
   ]
  }
 ],
 "metadata": {
  "kernelspec": {
   "display_name": "Python 3.7 - default",
   "language": "python",
   "name": "py37_default"
  },
  "language_info": {
   "codemirror_mode": {
    "name": "ipython",
    "version": 3
   },
   "file_extension": ".py",
   "mimetype": "text/x-python",
   "name": "python",
   "nbconvert_exporter": "python",
   "pygments_lexer": "ipython3",
   "version": "3.7.7"
  }
 },
 "nbformat": 4,
 "nbformat_minor": 4
}
