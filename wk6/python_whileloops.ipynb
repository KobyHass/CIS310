{
 "cells": [
  {
   "cell_type": "markdown",
   "metadata": {},
   "source": [
    "# Koby Hass\n",
    "## 02/25/2021\n",
    "### While loops in python"
   ]
  },
  {
   "cell_type": "code",
   "execution_count": 1,
   "metadata": {},
   "outputs": [
    {
     "name": "stdout",
     "output_type": "stream",
     "text": [
      "1\n",
      "2\n",
      "3\n",
      "4\n",
      "5\n"
     ]
    }
   ],
   "source": [
    "num = 1\n",
    "while num < 6:\n",
    "    print(num)\n",
    "    num += 1"
   ]
  },
  {
   "cell_type": "code",
   "execution_count": 2,
   "metadata": {},
   "outputs": [
    {
     "name": "stdout",
     "output_type": "stream",
     "text": [
      "num is currently: 1\n",
      "num is less than 6\n",
      "num is currently: 2\n",
      "num is less than 6\n",
      "num is currently: 3\n",
      "num is less than 6\n",
      "num is currently: 4\n",
      "num is less than 6\n",
      "num is currently: 5\n",
      "num is less than 6\n"
     ]
    }
   ],
   "source": [
    "num = 1\n",
    "while num < 6:\n",
    "    print('num is currently:', num)\n",
    "    print('num is less than 6')\n",
    "    num += 1"
   ]
  },
  {
   "cell_type": "code",
   "execution_count": 3,
   "metadata": {},
   "outputs": [
    {
     "name": "stdout",
     "output_type": "stream",
     "text": [
      "num is currently: 1\n",
      "num is less than 6, now adding one\n",
      "num is currently: 2\n",
      "num is less than 6, now adding one\n",
      "num is currently: 3\n",
      "num is less than 6, now adding one\n",
      "num is currently: 4\n",
      "num is less than 6, now adding one\n",
      "num is currently: 5\n",
      "num is less than 6, now adding one\n"
     ]
    }
   ],
   "source": [
    "num = 1\n",
    "while num < 10:\n",
    "    print('num is currently:', num)\n",
    "    print('num is less than 6, now adding one')\n",
    "    if num == 5:\n",
    "        break;\n",
    "    num += 1\n",
    "        "
   ]
  },
  {
   "cell_type": "code",
   "execution_count": null,
   "metadata": {},
   "outputs": [
    {
     "name": "stdout",
     "output_type": "stream",
     "text": [
      "num is currently 0\n",
      "num is less than 6, now adding 1 to the num\n",
      "num is currently 1\n",
      "num is less than 6, now adding 1 to the num\n",
      "num is currently 2\n",
      "num is less than 6, now adding 1 to the num\n",
      "num is currently 3\n",
      "num is less than 6, now adding 1 to the num\n",
      "num is currently 4\n",
      "num is less than 6, now adding 1 to the num\n"
     ]
    }
   ],
   "source": [
    "num = 0\n",
    "while num < 10:\n",
    "    if num == 5:\n",
    "        continue\n",
    "    print('num is currently', num)\n",
    "    print('num is less than 6, now adding 1 to the num')\n",
    "    num += 1"
   ]
  },
  {
   "cell_type": "code",
   "execution_count": null,
   "metadata": {},
   "outputs": [],
   "source": [
    "num = 1\n",
    "while num < 10:\n",
    "    num += 1\n",
    "    if num == 5:\n",
    "        continue\n",
    "    else:\n",
    "        print('num is currently: ', num)\n",
    "        print('num is less than 6, now adding 1 to the num')\n",
    "        num += 1"
   ]
  },
  {
   "cell_type": "code",
   "execution_count": null,
   "metadata": {},
   "outputs": [],
   "source": [
    "num = 6 + 1"
   ]
  },
  {
   "cell_type": "code",
   "execution_count": null,
   "metadata": {},
   "outputs": [],
   "source": [
    "num"
   ]
  },
  {
   "cell_type": "code",
   "execution_count": null,
   "metadata": {},
   "outputs": [],
   "source": [
    "num = 0\n",
    "while"
   ]
  },
  {
   "cell_type": "code",
   "execution_count": null,
   "metadata": {},
   "outputs": [],
   "source": []
  }
 ],
 "metadata": {
  "kernelspec": {
   "display_name": "Python 3.7 - default",
   "language": "python",
   "name": "py37_default"
  },
  "language_info": {
   "codemirror_mode": {
    "name": "ipython",
    "version": 3
   },
   "file_extension": ".py",
   "mimetype": "text/x-python",
   "name": "python",
   "nbconvert_exporter": "python",
   "pygments_lexer": "ipython3",
   "version": "3.7.7"
  }
 },
 "nbformat": 4,
 "nbformat_minor": 4
}
